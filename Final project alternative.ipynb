{
 "cells": [
  {
   "cell_type": "markdown",
   "metadata": {},
   "source": [
    "Extract data from an excel file \n",
    "check the age \n",
    "if bigger than 12 y, send email to user notifying and send email to team notifying \n"
   ]
  },
  {
   "cell_type": "code",
   "execution_count": 1,
   "metadata": {},
   "outputs": [],
   "source": [
    "import pandas as pd"
   ]
  },
  {
   "cell_type": "code",
   "execution_count": 2,
   "metadata": {},
   "outputs": [
    {
     "data": {
      "text/html": [
       "<div>\n",
       "<style scoped>\n",
       "    .dataframe tbody tr th:only-of-type {\n",
       "        vertical-align: middle;\n",
       "    }\n",
       "\n",
       "    .dataframe tbody tr th {\n",
       "        vertical-align: top;\n",
       "    }\n",
       "\n",
       "    .dataframe thead th {\n",
       "        text-align: right;\n",
       "    }\n",
       "</style>\n",
       "<table border=\"1\" class=\"dataframe\">\n",
       "  <thead>\n",
       "    <tr style=\"text-align: right;\">\n",
       "      <th></th>\n",
       "      <th>Unnamed: 1</th>\n",
       "      <th>Unnamed: 2</th>\n",
       "      <th>Unnamed: 3</th>\n",
       "      <th>Unnamed: 4</th>\n",
       "      <th>Unnamed: 5</th>\n",
       "      <th>Unnamed: 6</th>\n",
       "      <th>Unnamed: 7</th>\n",
       "    </tr>\n",
       "  </thead>\n",
       "  <tbody>\n",
       "    <tr>\n",
       "      <th>NaN</th>\n",
       "      <td>NaN</td>\n",
       "      <td>NaN</td>\n",
       "      <td>NaN</td>\n",
       "      <td>NaN</td>\n",
       "      <td>NaN</td>\n",
       "      <td>NaN</td>\n",
       "      <td>NaN</td>\n",
       "    </tr>\n",
       "    <tr>\n",
       "      <th>NaN</th>\n",
       "      <td>Subjects</td>\n",
       "      <td>child_1</td>\n",
       "      <td>age_child_1</td>\n",
       "      <td>child_2</td>\n",
       "      <td>age_child_2</td>\n",
       "      <td>child_3</td>\n",
       "      <td>age_child_3</td>\n",
       "    </tr>\n",
       "    <tr>\n",
       "      <th>NaN</th>\n",
       "      <td>subject A</td>\n",
       "      <td>2010-01-18 00:00:00</td>\n",
       "      <td>11.916667</td>\n",
       "      <td>2017-08-19 00:00:00</td>\n",
       "      <td>4.330556</td>\n",
       "      <td>NaN</td>\n",
       "      <td>NaN</td>\n",
       "    </tr>\n",
       "    <tr>\n",
       "      <th>NaN</th>\n",
       "      <td>subject B</td>\n",
       "      <td>2009-07-09 00:00:00</td>\n",
       "      <td>12.441667</td>\n",
       "      <td>2015-03-25 00:00:00</td>\n",
       "      <td>6.730556</td>\n",
       "      <td>NaN</td>\n",
       "      <td>NaN</td>\n",
       "    </tr>\n",
       "    <tr>\n",
       "      <th>NaN</th>\n",
       "      <td>subject C</td>\n",
       "      <td>2012-09-08 00:00:00</td>\n",
       "      <td>9.277778</td>\n",
       "      <td>2018-01-26 00:00:00</td>\n",
       "      <td>3.894444</td>\n",
       "      <td>2019-10-21 00:00:00</td>\n",
       "      <td>2.158333</td>\n",
       "    </tr>\n",
       "    <tr>\n",
       "      <th>NaN</th>\n",
       "      <td>subject D</td>\n",
       "      <td>2013-09-07 00:00:00</td>\n",
       "      <td>8.280556</td>\n",
       "      <td>2014-12-12 00:00:00</td>\n",
       "      <td>7.016667</td>\n",
       "      <td>NaN</td>\n",
       "      <td>NaN</td>\n",
       "    </tr>\n",
       "    <tr>\n",
       "      <th>NaN</th>\n",
       "      <td>subject E</td>\n",
       "      <td>2013-08-24 00:00:00</td>\n",
       "      <td>8.316667</td>\n",
       "      <td>2017-07-22 00:00:00</td>\n",
       "      <td>4.405556</td>\n",
       "      <td>NaN</td>\n",
       "      <td>NaN</td>\n",
       "    </tr>\n",
       "    <tr>\n",
       "      <th>NaN</th>\n",
       "      <td>subject F</td>\n",
       "      <td>2015-12-18 00:00:00</td>\n",
       "      <td>6</td>\n",
       "      <td>2021-01-09 00:00:00</td>\n",
       "      <td>0.941667</td>\n",
       "      <td>NaN</td>\n",
       "      <td>NaN</td>\n",
       "    </tr>\n",
       "    <tr>\n",
       "      <th>NaN</th>\n",
       "      <td>subject P</td>\n",
       "      <td>2015-01-27 00:00:00</td>\n",
       "      <td>6.891667</td>\n",
       "      <td>2020-07-25 00:00:00</td>\n",
       "      <td>1.397222</td>\n",
       "      <td>NaN</td>\n",
       "      <td>NaN</td>\n",
       "    </tr>\n",
       "    <tr>\n",
       "      <th>NaN</th>\n",
       "      <td>subject Z</td>\n",
       "      <td>2016-08-01 00:00:00</td>\n",
       "      <td>5.380556</td>\n",
       "      <td>2017-07-19 00:00:00</td>\n",
       "      <td>4.413889</td>\n",
       "      <td>NaN</td>\n",
       "      <td>NaN</td>\n",
       "    </tr>\n",
       "    <tr>\n",
       "      <th>NaN</th>\n",
       "      <td>subject K</td>\n",
       "      <td>2016-10-22 00:00:00</td>\n",
       "      <td>5.155556</td>\n",
       "      <td>2018-04-23 00:00:00</td>\n",
       "      <td>3.652778</td>\n",
       "      <td>NaN</td>\n",
       "      <td>NaN</td>\n",
       "    </tr>\n",
       "  </tbody>\n",
       "</table>\n",
       "</div>"
      ],
      "text/plain": [
       "    Unnamed: 1           Unnamed: 2   Unnamed: 3           Unnamed: 4  \\\n",
       "NaN        NaN                  NaN          NaN                  NaN   \n",
       "NaN   Subjects              child_1  age_child_1              child_2   \n",
       "NaN  subject A  2010-01-18 00:00:00    11.916667  2017-08-19 00:00:00   \n",
       "NaN  subject B  2009-07-09 00:00:00    12.441667  2015-03-25 00:00:00   \n",
       "NaN  subject C  2012-09-08 00:00:00     9.277778  2018-01-26 00:00:00   \n",
       "NaN  subject D  2013-09-07 00:00:00     8.280556  2014-12-12 00:00:00   \n",
       "NaN  subject E  2013-08-24 00:00:00     8.316667  2017-07-22 00:00:00   \n",
       "NaN  subject F  2015-12-18 00:00:00            6  2021-01-09 00:00:00   \n",
       "NaN  subject P  2015-01-27 00:00:00     6.891667  2020-07-25 00:00:00   \n",
       "NaN  subject Z  2016-08-01 00:00:00     5.380556  2017-07-19 00:00:00   \n",
       "NaN  subject K  2016-10-22 00:00:00     5.155556  2018-04-23 00:00:00   \n",
       "\n",
       "      Unnamed: 5           Unnamed: 6   Unnamed: 7  \n",
       "NaN          NaN                  NaN          NaN  \n",
       "NaN  age_child_2              child_3  age_child_3  \n",
       "NaN     4.330556                  NaN          NaN  \n",
       "NaN     6.730556                  NaN          NaN  \n",
       "NaN     3.894444  2019-10-21 00:00:00     2.158333  \n",
       "NaN     7.016667                  NaN          NaN  \n",
       "NaN     4.405556                  NaN          NaN  \n",
       "NaN     0.941667                  NaN          NaN  \n",
       "NaN     1.397222                  NaN          NaN  \n",
       "NaN     4.413889                  NaN          NaN  \n",
       "NaN     3.652778                  NaN          NaN  "
      ]
     },
     "execution_count": 2,
     "metadata": {},
     "output_type": "execute_result"
    }
   ],
   "source": [
    "pd.read_excel(\"Python project.xlsx\", index_col=0)"
   ]
  },
  {
   "cell_type": "code",
   "execution_count": 3,
   "metadata": {},
   "outputs": [],
   "source": [
    "from datetime import date\n",
    "\n",
    "def calculate_age(born):\n",
    "    today = date.today()\n",
    "    return today.year - born.year - ((today.month, today.day) < (born.month, born.day))"
   ]
  },
  {
   "cell_type": "code",
   "execution_count": 4,
   "metadata": {},
   "outputs": [],
   "source": [
    "import openpyxl as op\n",
    "import datetime"
   ]
  },
  {
   "cell_type": "code",
   "execution_count": 10,
   "metadata": {},
   "outputs": [
    {
     "ename": "NameError",
     "evalue": "name 'ws' is not defined",
     "output_type": "error",
     "traceback": [
      "\u001b[1;31m---------------------------------------------------------------------------\u001b[0m",
      "\u001b[1;31mNameError\u001b[0m                                 Traceback (most recent call last)",
      "\u001b[1;32m~\\AppData\\Local\\Temp/ipykernel_17320/3872792494.py\u001b[0m in \u001b[0;36m<module>\u001b[1;34m\u001b[0m\n\u001b[1;32m----> 1\u001b[1;33m \u001b[1;32mfor\u001b[0m \u001b[0mrow\u001b[0m \u001b[1;32min\u001b[0m \u001b[0mrange\u001b[0m\u001b[1;33m(\u001b[0m\u001b[1;36m2\u001b[0m\u001b[1;33m,\u001b[0m \u001b[0mws\u001b[0m\u001b[1;33m.\u001b[0m\u001b[0mchild_birth_year\u001b[0m \u001b[1;33m+\u001b[0m \u001b[1;36m1\u001b[0m\u001b[1;33m)\u001b[0m\u001b[1;33m:\u001b[0m\u001b[1;33m\u001b[0m\u001b[1;33m\u001b[0m\u001b[0m\n\u001b[0m\u001b[0;32m      2\u001b[0m     \u001b[0mws\u001b[0m\u001b[1;33m[\u001b[0m\u001b[1;34m\"child_1\"\u001b[0m\u001b[1;33m]\u001b[0m \u001b[1;33m=\u001b[0m \u001b[0mws\u001b[0m\u001b[1;33m[\u001b[0m\u001b[1;34m\"child_1\"\u001b[0m \u001b[1;33m+\u001b[0m \u001b[0mstr\u001b[0m\u001b[1;33m(\u001b[0m\u001b[0mrow\u001b[0m\u001b[1;33m)\u001b[0m\u001b[1;33m.\u001b[0m\u001b[0mvalue\u001b[0m\u001b[1;33m]\u001b[0m\u001b[1;33m\u001b[0m\u001b[1;33m\u001b[0m\u001b[0m\n\u001b[0;32m      3\u001b[0m     \u001b[0mborn\u001b[0m \u001b[1;33m=\u001b[0m \u001b[0mdatetime\u001b[0m\u001b[1;33m.\u001b[0m\u001b[0mdatetime\u001b[0m\u001b[1;33m.\u001b[0m\u001b[0mstrptime\u001b[0m\u001b[1;33m(\u001b[0m\u001b[0mwsx\u001b[0m\u001b[1;33m[\u001b[0m\u001b[1;34m\"child_1\"\u001b[0m\u001b[1;33m]\u001b[0m\u001b[1;33m,\u001b[0m \u001b[1;34m\"%m/%d/%y\"\u001b[0m\u001b[1;33m)\u001b[0m\u001b[1;33m\u001b[0m\u001b[1;33m\u001b[0m\u001b[0m\n\u001b[0;32m      4\u001b[0m     \u001b[0mws\u001b[0m\u001b[1;33m[\u001b[0m\u001b[1;34m\"age_child_1\"\u001b[0m \u001b[1;33m+\u001b[0m \u001b[0mstr\u001b[0m\u001b[1;33m(\u001b[0m\u001b[0mrow\u001b[0m\u001b[1;33m)\u001b[0m\u001b[1;33m]\u001b[0m\u001b[1;33m.\u001b[0m\u001b[0mvalue\u001b[0m \u001b[1;33m=\u001b[0m \u001b[0mtoday\u001b[0m\u001b[1;33m.\u001b[0m\u001b[0myear\u001b[0m \u001b[1;33m-\u001b[0m \u001b[0mborn\u001b[0m\u001b[1;33m.\u001b[0m\u001b[0myear\u001b[0m \u001b[1;33m-\u001b[0m \u001b[1;33m(\u001b[0m\u001b[1;33m(\u001b[0m\u001b[0mtoday\u001b[0m\u001b[1;33m.\u001b[0m\u001b[0mmonth\u001b[0m\u001b[1;33m,\u001b[0m \u001b[0mtoday\u001b[0m\u001b[1;33m.\u001b[0m\u001b[0mday\u001b[0m\u001b[1;33m)\u001b[0m \u001b[1;33m<\u001b[0m \u001b[1;33m(\u001b[0m\u001b[0mborn\u001b[0m\u001b[1;33m.\u001b[0m\u001b[0mmonth\u001b[0m\u001b[1;33m,\u001b[0m \u001b[0mborn\u001b[0m\u001b[1;33m.\u001b[0m\u001b[0mday\u001b[0m\u001b[1;33m)\u001b[0m\u001b[1;33m)\u001b[0m\u001b[1;33m\u001b[0m\u001b[1;33m\u001b[0m\u001b[0m\n",
      "\u001b[1;31mNameError\u001b[0m: name 'ws' is not defined"
     ]
    }
   ],
   "source": [
    "for row in range(2, ws.child_birth_year + 1):\n",
    "    ws[\"child_1\"] = ws[\"child_1\" + str(row).value]\n",
    "    born = datetime.datetime.strptime(wsx[\"child_1\"], \"%m/%d/%y\")\n",
    "    ws[\"age_child_1\" + str(row)].value = today.year - born.year - ((today.month, today.day) < (born.month, born.day))\n"
   ]
  },
  {
   "cell_type": "code",
   "execution_count": null,
   "metadata": {},
   "outputs": [],
   "source": []
  }
 ],
 "metadata": {
  "interpreter": {
   "hash": "3f8380f0820665004a18464232eb6d826297f202842df5a8a96b515e25721c85"
  },
  "kernelspec": {
   "display_name": "Python 3.9.7 64-bit",
   "language": "python",
   "name": "python3"
  },
  "language_info": {
   "codemirror_mode": {
    "name": "ipython",
    "version": 3
   },
   "file_extension": ".py",
   "mimetype": "text/x-python",
   "name": "python",
   "nbconvert_exporter": "python",
   "pygments_lexer": "ipython3",
   "version": "3.9.7"
  },
  "orig_nbformat": 4
 },
 "nbformat": 4,
 "nbformat_minor": 2
}

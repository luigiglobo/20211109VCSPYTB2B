{
 "cells": [
  {
   "cell_type": "code",
   "execution_count": 91,
   "metadata": {},
   "outputs": [],
   "source": [
    "import pandas as pd\n",
    "date_old = '2011 - 12 - 01'\n",
    "date_new = pd.to_datetime(date_old, format='%Y - %m - %d')\n"
   ]
  },
  {
   "cell_type": "code",
   "execution_count": 92,
   "metadata": {},
   "outputs": [
    {
     "name": "stdout",
     "output_type": "stream",
     "text": [
      "      Subjects    child_1  age_child_1    child_2  age_child_2    child_3  \\\n",
      "NaN  subject A 2010-01-18    11.955556 2017-08-19     4.369444        NaT   \n",
      "NaN  subject B 2009-07-09    12.480556 2015-03-25     6.769444        NaT   \n",
      "NaN  subject C 2012-09-08     9.316667 2018-01-26     3.933333 2019-10-21   \n",
      "NaN  subject D 2013-09-07     8.319444 2014-12-12     7.055556        NaT   \n",
      "NaN  subject E 2013-08-24     8.355556 2017-07-22     4.444444        NaT   \n",
      "NaN  subject F 2015-12-18     6.038889 2021-01-09     0.980556        NaT   \n",
      "NaN  subject P 2015-01-27     6.930556 2020-07-25     1.436111        NaT   \n",
      "NaN  subject Z 2016-08-01     5.419444 2017-07-19     4.452778        NaT   \n",
      "NaN  subject K 2016-10-22     5.194444 2018-04-23     3.691667        NaT   \n",
      "\n",
      "     age_child_3  \n",
      "NaN          NaN  \n",
      "NaN          NaN  \n",
      "NaN     2.197222  \n",
      "NaN          NaN  \n",
      "NaN          NaN  \n",
      "NaN          NaN  \n",
      "NaN          NaN  \n",
      "NaN          NaN  \n",
      "NaN          NaN  \n"
     ]
    }
   ],
   "source": [
    "additional_day_df = pd.read_excel(\"Python project.xlsx\", index_col=0, header=0)\n",
    "print(additional_day_df)"
   ]
  },
  {
   "cell_type": "code",
   "execution_count": 93,
   "metadata": {},
   "outputs": [
    {
     "name": "stdout",
     "output_type": "stream",
     "text": [
      "Index(['Subjects', 'child_1', 'age_child_1', 'child_2', 'age_child_2',\n",
      "       'child_3', 'age_child_3'],\n",
      "      dtype='object')\n"
     ]
    }
   ],
   "source": [
    "additional_day_df.columns = ['Subjects','child_1', 'age_child_1', 'child_2', 'age_child_2', 'child_3', 'age_child_3' ]\n",
    "print(additional_day_df.columns)"
   ]
  },
  {
   "cell_type": "code",
   "execution_count": 94,
   "metadata": {},
   "outputs": [
    {
     "name": "stdout",
     "output_type": "stream",
     "text": [
      "      Subjects    child_1    child_2    child_3\n",
      "NaN  subject A 2010-01-18 2017-08-19        NaT\n",
      "NaN  subject B 2009-07-09 2015-03-25        NaT\n",
      "NaN  subject C 2012-09-08 2018-01-26 2019-10-21\n",
      "NaN  subject D 2013-09-07 2014-12-12        NaT\n",
      "NaN  subject E 2013-08-24 2017-07-22        NaT\n",
      "NaN  subject F 2015-12-18 2021-01-09        NaT\n",
      "NaN  subject P 2015-01-27 2020-07-25        NaT\n",
      "NaN  subject Z 2016-08-01 2017-07-19        NaT\n",
      "NaN  subject K 2016-10-22 2018-04-23        NaT\n"
     ]
    }
   ],
   "source": [
    "birth_date = additional_day_df[['Subjects','child_1', 'child_2','child_3']]\n",
    "print (birth_date)"
   ]
  },
  {
   "cell_type": "code",
   "execution_count": 95,
   "metadata": {},
   "outputs": [],
   "source": [
    "from datetime import date\n",
    "from dateutil.relativedelta import relativedelta\n",
    "today = date.today()"
   ]
  },
  {
   "cell_type": "code",
   "execution_count": 110,
   "metadata": {},
   "outputs": [
    {
     "name": "stdout",
     "output_type": "stream",
     "text": [
      "Eligible - child is less that 12 years old.\n",
      "Not eligible - Child is over 12 years old\n",
      "Eligible - child is less that 12 years old.\n",
      "Eligible - child is less that 12 years old.\n",
      "Eligible - child is less that 12 years old.\n",
      "Eligible - child is less that 12 years old.\n",
      "Eligible - child is less that 12 years old.\n",
      "Eligible - child is less that 12 years old.\n",
      "Eligible - child is less that 12 years old.\n"
     ]
    }
   ],
   "source": [
    "child_1 : additional_day_df['child_1'] = pd.to_datetime(additional_day_df['child_1'] , format=\"%Y-%m-%d\")\n",
    "twelve_years_ago = date.today() - relativedelta(years=12)\n",
    "for age in child_1:\n",
    "    if age < twelve_years_ago:\n",
    "        print (\"Not eligible - Child is over 12 years old\")\n",
    "    elif age > twelve_years_ago:\n",
    "        print(\"Eligible - child is less that 12 years old.\")\n",
    "\n",
    "\n",
    "\n",
    "\n"
   ]
  },
  {
   "cell_type": "code",
   "execution_count": 111,
   "metadata": {},
   "outputs": [
    {
     "name": "stdout",
     "output_type": "stream",
     "text": [
      "Eligible - child is less that 12 years old.\n",
      "Eligible - child is less that 12 years old.\n",
      "Eligible - child is less that 12 years old.\n",
      "Eligible - child is less that 12 years old.\n",
      "Eligible - child is less that 12 years old.\n",
      "Eligible - child is less that 12 years old.\n",
      "Eligible - child is less that 12 years old.\n",
      "Eligible - child is less that 12 years old.\n",
      "Eligible - child is less that 12 years old.\n"
     ]
    }
   ],
   "source": [
    "child_2 : additional_day_df['child_2'] = pd.to_datetime(additional_day_df['child_2'] , format=\"%Y-%m-%d\")\n",
    "twelve_years_ago = date.today() - relativedelta(years=12)\n",
    "for age in child_2:\n",
    "    if age < twelve_years_ago:\n",
    "        print (\"Not eligible - Child is over 12 years old\")\n",
    "    elif age > twelve_years_ago:\n",
    "        print(\"Eligible - child is less that 12 years old.\")\n"
   ]
  },
  {
   "cell_type": "code",
   "execution_count": 115,
   "metadata": {},
   "outputs": [
    {
     "name": "stdout",
     "output_type": "stream",
     "text": [
      "Eligible - child is less that 12 years old.\n"
     ]
    }
   ],
   "source": [
    "child_3 : additional_day_df['child_3'] = pd.to_datetime(additional_day_df['child_3'] , format=\"%Y-%m-%d\")\n",
    "twelve_years_ago = date.today() - relativedelta(years=12)\n",
    "for age in child_3:\n",
    "    if age < twelve_years_ago:\n",
    "        print (\"Not eligible - Child is over 12 years old\")\n",
    "    elif age > twelve_years_ago:\n",
    "        print(\"Eligible - child is less that 12 years old.\")\n",
    "\n"
   ]
  }
 ],
 "metadata": {
  "interpreter": {
   "hash": "3f8380f0820665004a18464232eb6d826297f202842df5a8a96b515e25721c85"
  },
  "kernelspec": {
   "display_name": "Python 3.9.7 64-bit",
   "language": "python",
   "name": "python3"
  },
  "language_info": {
   "codemirror_mode": {
    "name": "ipython",
    "version": 3
   },
   "file_extension": ".py",
   "mimetype": "text/x-python",
   "name": "python",
   "nbconvert_exporter": "python",
   "pygments_lexer": "ipython3",
   "version": "3.9.7"
  },
  "orig_nbformat": 4
 },
 "nbformat": 4,
 "nbformat_minor": 2
}

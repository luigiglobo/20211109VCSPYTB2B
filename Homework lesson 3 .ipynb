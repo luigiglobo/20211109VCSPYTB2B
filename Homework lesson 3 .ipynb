numbers = (1-100)
